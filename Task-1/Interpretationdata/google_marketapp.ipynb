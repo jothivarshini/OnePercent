{
 "cells": [
  {
   "cell_type": "markdown",
   "metadata": {},
   "source": [
    "**Import Libraries**"
   ]
  },
  {
   "cell_type": "code",
   "execution_count": 4,
   "metadata": {},
   "outputs": [],
   "source": [
    "import pandas as pd\n",
    "import numpy as numpy\n",
    "import seaborn as sns\n",
    "import matplotlib.pyplot as plt \n",
    "import math"
   ]
  },
  {
   "cell_type": "code",
   "execution_count": 5,
   "metadata": {},
   "outputs": [],
   "source": [
    "google=pd.read_csv('DIGITAL_MARKETING_APP_DATE_GOOGLE.csv')"
   ]
  },
  {
   "cell_type": "markdown",
   "metadata": {},
   "source": [
    "**Data Preprocessing**"
   ]
  },
  {
   "cell_type": "code",
   "execution_count": 6,
   "metadata": {},
   "outputs": [
    {
     "data": {
      "text/plain": [
       "<bound method NDFrame.head of            DATE  C_COMPILER  C_TUTORIAL  CSHARP_COMPILER  CSHARP_TUTORIAL  \\\n",
       "0    2021-05-28          20           1                2                0   \n",
       "1    2021-05-29          16          40                0                0   \n",
       "2    2021-05-30           6          25                0                0   \n",
       "3    2021-05-31           4          20                0                0   \n",
       "4    2021-06-01           8          10                1                0   \n",
       "..          ...         ...         ...              ...              ...   \n",
       "315  2022-01-27           0           0                0                0   \n",
       "316  2022-01-28           0           0                0                0   \n",
       "317  2022-01-29           0           0                0                0   \n",
       "318  2022-01-31           0           0                0                0   \n",
       "319  2022-01-16           0           0                0                0   \n",
       "\n",
       "     CPLUSPLUS_COMPILER  CPLUSPLUS_TUTORIAL  CALCULATORPLUS  CALENDARPLUS  \\\n",
       "0                     2                   0               1             3   \n",
       "1                     0                   5               0            28   \n",
       "2                     0                   1               0             2   \n",
       "3                     0                  29               2             2   \n",
       "4                     6                   0              12             1   \n",
       "..                  ...                 ...             ...           ...   \n",
       "315                   0                   0               0             0   \n",
       "316                   0                   0               0             0   \n",
       "317                   0                   0               0             0   \n",
       "318                   0                   0               0             0   \n",
       "319                   0                   0               0             0   \n",
       "\n",
       "     COMPILERPLUS  ...  PYTHON_TUTORIAL  RUBY_COMPILER  RUBY_TUTORIAL  \\\n",
       "0               3  ...                0              0              0   \n",
       "1               0  ...                0              0              0   \n",
       "2               0  ...                0              0              1   \n",
       "3               1  ...                0              0              0   \n",
       "4               8  ...               19              0              0   \n",
       "..            ...  ...              ...            ...            ...   \n",
       "315             0  ...                0              0              0   \n",
       "316             0  ...                0              0              0   \n",
       "317             0  ...                0              0              0   \n",
       "318             0  ...                0              0              0   \n",
       "319             0  ...                0              0              0   \n",
       "\n",
       "     SUCCESS_STORIES  SWIFT_COMPILER  SWIFT_TUTORIAL  TASKSPLUS  TIMEPLUS  \\\n",
       "0                  2               0               0          3         2   \n",
       "1                  1               0               0          0         0   \n",
       "2                  1               0               5          1         1   \n",
       "3                  4               0               0         14         2   \n",
       "4                  5               0               0          9         1   \n",
       "..               ...             ...             ...        ...       ...   \n",
       "315                0               0               0          0         0   \n",
       "316                0               0               0          0         0   \n",
       "317                0               0               0          0         0   \n",
       "318                0               0               0          0         0   \n",
       "319                0               0               0          0         0   \n",
       "\n",
       "     TRAVEL_DIARIES  XML_TUTORIAL  \n",
       "0                 1             0  \n",
       "1                 0             0  \n",
       "2                 6             1  \n",
       "3                 0             0  \n",
       "4                 1             0  \n",
       "..              ...           ...  \n",
       "315               0             0  \n",
       "316               0             0  \n",
       "317               0             0  \n",
       "318               0             0  \n",
       "319               0             0  \n",
       "\n",
       "[320 rows x 37 columns]>"
      ]
     },
     "execution_count": 6,
     "metadata": {},
     "output_type": "execute_result"
    }
   ],
   "source": [
    "google.head"
   ]
  },
  {
   "cell_type": "code",
   "execution_count": 7,
   "metadata": {},
   "outputs": [
    {
     "data": {
      "text/html": [
       "<div>\n",
       "<style scoped>\n",
       "    .dataframe tbody tr th:only-of-type {\n",
       "        vertical-align: middle;\n",
       "    }\n",
       "\n",
       "    .dataframe tbody tr th {\n",
       "        vertical-align: top;\n",
       "    }\n",
       "\n",
       "    .dataframe thead th {\n",
       "        text-align: right;\n",
       "    }\n",
       "</style>\n",
       "<table border=\"1\" class=\"dataframe\">\n",
       "  <thead>\n",
       "    <tr style=\"text-align: right;\">\n",
       "      <th></th>\n",
       "      <th>C_COMPILER</th>\n",
       "      <th>C_TUTORIAL</th>\n",
       "      <th>CSHARP_COMPILER</th>\n",
       "      <th>CSHARP_TUTORIAL</th>\n",
       "      <th>CPLUSPLUS_COMPILER</th>\n",
       "      <th>CPLUSPLUS_TUTORIAL</th>\n",
       "      <th>CALCULATORPLUS</th>\n",
       "      <th>CALENDARPLUS</th>\n",
       "      <th>COMPILERPLUS</th>\n",
       "      <th>CSS_TUTORIAL</th>\n",
       "      <th>...</th>\n",
       "      <th>PYTHON_TUTORIAL</th>\n",
       "      <th>RUBY_COMPILER</th>\n",
       "      <th>RUBY_TUTORIAL</th>\n",
       "      <th>SUCCESS_STORIES</th>\n",
       "      <th>SWIFT_COMPILER</th>\n",
       "      <th>SWIFT_TUTORIAL</th>\n",
       "      <th>TASKSPLUS</th>\n",
       "      <th>TIMEPLUS</th>\n",
       "      <th>TRAVEL_DIARIES</th>\n",
       "      <th>XML_TUTORIAL</th>\n",
       "    </tr>\n",
       "  </thead>\n",
       "  <tbody>\n",
       "    <tr>\n",
       "      <th>count</th>\n",
       "      <td>320.000000</td>\n",
       "      <td>320.000000</td>\n",
       "      <td>320.000000</td>\n",
       "      <td>320.000000</td>\n",
       "      <td>320.000000</td>\n",
       "      <td>320.00000</td>\n",
       "      <td>320.000000</td>\n",
       "      <td>320.000000</td>\n",
       "      <td>320.000000</td>\n",
       "      <td>320.000000</td>\n",
       "      <td>...</td>\n",
       "      <td>320.000000</td>\n",
       "      <td>320.000000</td>\n",
       "      <td>320.000000</td>\n",
       "      <td>320.000000</td>\n",
       "      <td>320.000000</td>\n",
       "      <td>320.000000</td>\n",
       "      <td>320.000000</td>\n",
       "      <td>320.000000</td>\n",
       "      <td>320.000000</td>\n",
       "      <td>320.000000</td>\n",
       "    </tr>\n",
       "    <tr>\n",
       "      <th>mean</th>\n",
       "      <td>5.618750</td>\n",
       "      <td>4.471875</td>\n",
       "      <td>4.640625</td>\n",
       "      <td>3.465625</td>\n",
       "      <td>3.634375</td>\n",
       "      <td>6.57500</td>\n",
       "      <td>4.203125</td>\n",
       "      <td>3.440625</td>\n",
       "      <td>3.800000</td>\n",
       "      <td>1.996875</td>\n",
       "      <td>...</td>\n",
       "      <td>5.159375</td>\n",
       "      <td>1.356250</td>\n",
       "      <td>1.500000</td>\n",
       "      <td>1.812500</td>\n",
       "      <td>1.737500</td>\n",
       "      <td>2.959375</td>\n",
       "      <td>3.540625</td>\n",
       "      <td>2.362500</td>\n",
       "      <td>1.225000</td>\n",
       "      <td>2.065625</td>\n",
       "    </tr>\n",
       "    <tr>\n",
       "      <th>std</th>\n",
       "      <td>16.128548</td>\n",
       "      <td>9.185949</td>\n",
       "      <td>12.423518</td>\n",
       "      <td>11.887617</td>\n",
       "      <td>10.880978</td>\n",
       "      <td>21.77645</td>\n",
       "      <td>21.313880</td>\n",
       "      <td>10.441488</td>\n",
       "      <td>9.804228</td>\n",
       "      <td>6.624500</td>\n",
       "      <td>...</td>\n",
       "      <td>20.659114</td>\n",
       "      <td>11.609826</td>\n",
       "      <td>10.822014</td>\n",
       "      <td>5.166431</td>\n",
       "      <td>6.282271</td>\n",
       "      <td>12.504604</td>\n",
       "      <td>9.187608</td>\n",
       "      <td>7.567864</td>\n",
       "      <td>4.819566</td>\n",
       "      <td>8.663986</td>\n",
       "    </tr>\n",
       "    <tr>\n",
       "      <th>min</th>\n",
       "      <td>0.000000</td>\n",
       "      <td>0.000000</td>\n",
       "      <td>0.000000</td>\n",
       "      <td>0.000000</td>\n",
       "      <td>0.000000</td>\n",
       "      <td>0.00000</td>\n",
       "      <td>0.000000</td>\n",
       "      <td>0.000000</td>\n",
       "      <td>0.000000</td>\n",
       "      <td>0.000000</td>\n",
       "      <td>...</td>\n",
       "      <td>0.000000</td>\n",
       "      <td>0.000000</td>\n",
       "      <td>0.000000</td>\n",
       "      <td>0.000000</td>\n",
       "      <td>0.000000</td>\n",
       "      <td>0.000000</td>\n",
       "      <td>0.000000</td>\n",
       "      <td>0.000000</td>\n",
       "      <td>0.000000</td>\n",
       "      <td>0.000000</td>\n",
       "    </tr>\n",
       "    <tr>\n",
       "      <th>25%</th>\n",
       "      <td>0.000000</td>\n",
       "      <td>0.000000</td>\n",
       "      <td>0.000000</td>\n",
       "      <td>0.000000</td>\n",
       "      <td>0.000000</td>\n",
       "      <td>0.00000</td>\n",
       "      <td>0.000000</td>\n",
       "      <td>0.000000</td>\n",
       "      <td>0.000000</td>\n",
       "      <td>0.000000</td>\n",
       "      <td>...</td>\n",
       "      <td>0.000000</td>\n",
       "      <td>0.000000</td>\n",
       "      <td>0.000000</td>\n",
       "      <td>0.000000</td>\n",
       "      <td>0.000000</td>\n",
       "      <td>0.000000</td>\n",
       "      <td>0.000000</td>\n",
       "      <td>0.000000</td>\n",
       "      <td>0.000000</td>\n",
       "      <td>0.000000</td>\n",
       "    </tr>\n",
       "    <tr>\n",
       "      <th>50%</th>\n",
       "      <td>2.000000</td>\n",
       "      <td>1.000000</td>\n",
       "      <td>0.000000</td>\n",
       "      <td>0.000000</td>\n",
       "      <td>0.000000</td>\n",
       "      <td>0.50000</td>\n",
       "      <td>1.000000</td>\n",
       "      <td>0.000000</td>\n",
       "      <td>0.000000</td>\n",
       "      <td>0.000000</td>\n",
       "      <td>...</td>\n",
       "      <td>0.000000</td>\n",
       "      <td>0.000000</td>\n",
       "      <td>0.000000</td>\n",
       "      <td>0.000000</td>\n",
       "      <td>0.000000</td>\n",
       "      <td>0.000000</td>\n",
       "      <td>1.000000</td>\n",
       "      <td>0.000000</td>\n",
       "      <td>0.000000</td>\n",
       "      <td>0.000000</td>\n",
       "    </tr>\n",
       "    <tr>\n",
       "      <th>75%</th>\n",
       "      <td>5.000000</td>\n",
       "      <td>5.000000</td>\n",
       "      <td>2.000000</td>\n",
       "      <td>1.000000</td>\n",
       "      <td>2.000000</td>\n",
       "      <td>3.00000</td>\n",
       "      <td>3.000000</td>\n",
       "      <td>2.000000</td>\n",
       "      <td>3.000000</td>\n",
       "      <td>0.000000</td>\n",
       "      <td>...</td>\n",
       "      <td>2.000000</td>\n",
       "      <td>0.000000</td>\n",
       "      <td>0.000000</td>\n",
       "      <td>1.000000</td>\n",
       "      <td>1.000000</td>\n",
       "      <td>1.000000</td>\n",
       "      <td>3.000000</td>\n",
       "      <td>1.000000</td>\n",
       "      <td>0.000000</td>\n",
       "      <td>0.000000</td>\n",
       "    </tr>\n",
       "    <tr>\n",
       "      <th>max</th>\n",
       "      <td>245.000000</td>\n",
       "      <td>63.000000</td>\n",
       "      <td>88.000000</td>\n",
       "      <td>104.000000</td>\n",
       "      <td>83.000000</td>\n",
       "      <td>225.00000</td>\n",
       "      <td>366.000000</td>\n",
       "      <td>97.000000</td>\n",
       "      <td>82.000000</td>\n",
       "      <td>59.000000</td>\n",
       "      <td>...</td>\n",
       "      <td>294.000000</td>\n",
       "      <td>201.000000</td>\n",
       "      <td>166.000000</td>\n",
       "      <td>54.000000</td>\n",
       "      <td>68.000000</td>\n",
       "      <td>137.000000</td>\n",
       "      <td>97.000000</td>\n",
       "      <td>58.000000</td>\n",
       "      <td>57.000000</td>\n",
       "      <td>94.000000</td>\n",
       "    </tr>\n",
       "  </tbody>\n",
       "</table>\n",
       "<p>8 rows × 36 columns</p>\n",
       "</div>"
      ],
      "text/plain": [
       "       C_COMPILER  C_TUTORIAL  CSHARP_COMPILER  CSHARP_TUTORIAL  \\\n",
       "count  320.000000  320.000000       320.000000       320.000000   \n",
       "mean     5.618750    4.471875         4.640625         3.465625   \n",
       "std     16.128548    9.185949        12.423518        11.887617   \n",
       "min      0.000000    0.000000         0.000000         0.000000   \n",
       "25%      0.000000    0.000000         0.000000         0.000000   \n",
       "50%      2.000000    1.000000         0.000000         0.000000   \n",
       "75%      5.000000    5.000000         2.000000         1.000000   \n",
       "max    245.000000   63.000000        88.000000       104.000000   \n",
       "\n",
       "       CPLUSPLUS_COMPILER  CPLUSPLUS_TUTORIAL  CALCULATORPLUS  CALENDARPLUS  \\\n",
       "count          320.000000           320.00000      320.000000    320.000000   \n",
       "mean             3.634375             6.57500        4.203125      3.440625   \n",
       "std             10.880978            21.77645       21.313880     10.441488   \n",
       "min              0.000000             0.00000        0.000000      0.000000   \n",
       "25%              0.000000             0.00000        0.000000      0.000000   \n",
       "50%              0.000000             0.50000        1.000000      0.000000   \n",
       "75%              2.000000             3.00000        3.000000      2.000000   \n",
       "max             83.000000           225.00000      366.000000     97.000000   \n",
       "\n",
       "       COMPILERPLUS  CSS_TUTORIAL  ...  PYTHON_TUTORIAL  RUBY_COMPILER  \\\n",
       "count    320.000000    320.000000  ...       320.000000     320.000000   \n",
       "mean       3.800000      1.996875  ...         5.159375       1.356250   \n",
       "std        9.804228      6.624500  ...        20.659114      11.609826   \n",
       "min        0.000000      0.000000  ...         0.000000       0.000000   \n",
       "25%        0.000000      0.000000  ...         0.000000       0.000000   \n",
       "50%        0.000000      0.000000  ...         0.000000       0.000000   \n",
       "75%        3.000000      0.000000  ...         2.000000       0.000000   \n",
       "max       82.000000     59.000000  ...       294.000000     201.000000   \n",
       "\n",
       "       RUBY_TUTORIAL  SUCCESS_STORIES  SWIFT_COMPILER  SWIFT_TUTORIAL  \\\n",
       "count     320.000000       320.000000      320.000000      320.000000   \n",
       "mean        1.500000         1.812500        1.737500        2.959375   \n",
       "std        10.822014         5.166431        6.282271       12.504604   \n",
       "min         0.000000         0.000000        0.000000        0.000000   \n",
       "25%         0.000000         0.000000        0.000000        0.000000   \n",
       "50%         0.000000         0.000000        0.000000        0.000000   \n",
       "75%         0.000000         1.000000        1.000000        1.000000   \n",
       "max       166.000000        54.000000       68.000000      137.000000   \n",
       "\n",
       "        TASKSPLUS    TIMEPLUS  TRAVEL_DIARIES  XML_TUTORIAL  \n",
       "count  320.000000  320.000000      320.000000    320.000000  \n",
       "mean     3.540625    2.362500        1.225000      2.065625  \n",
       "std      9.187608    7.567864        4.819566      8.663986  \n",
       "min      0.000000    0.000000        0.000000      0.000000  \n",
       "25%      0.000000    0.000000        0.000000      0.000000  \n",
       "50%      1.000000    0.000000        0.000000      0.000000  \n",
       "75%      3.000000    1.000000        0.000000      0.000000  \n",
       "max     97.000000   58.000000       57.000000     94.000000  \n",
       "\n",
       "[8 rows x 36 columns]"
      ]
     },
     "execution_count": 7,
     "metadata": {},
     "output_type": "execute_result"
    }
   ],
   "source": [
    "google.describe()"
   ]
  },
  {
   "cell_type": "code",
   "execution_count": 8,
   "metadata": {},
   "outputs": [
    {
     "data": {
      "text/plain": [
       "(320, 37)"
      ]
     },
     "execution_count": 8,
     "metadata": {},
     "output_type": "execute_result"
    }
   ],
   "source": [
    "google.shape"
   ]
  },
  {
   "cell_type": "code",
   "execution_count": 9,
   "metadata": {},
   "outputs": [
    {
     "name": "stdout",
     "output_type": "stream",
     "text": [
      "<class 'pandas.core.frame.DataFrame'>\n",
      "RangeIndex: 320 entries, 0 to 319\n",
      "Data columns (total 37 columns):\n",
      " #   Column               Non-Null Count  Dtype \n",
      "---  ------               --------------  ----- \n",
      " 0   DATE                 320 non-null    object\n",
      " 1   C_COMPILER           320 non-null    int64 \n",
      " 2   C_TUTORIAL           320 non-null    int64 \n",
      " 3   CSHARP_COMPILER      320 non-null    int64 \n",
      " 4   CSHARP_TUTORIAL      320 non-null    int64 \n",
      " 5   CPLUSPLUS_COMPILER   320 non-null    int64 \n",
      " 6   CPLUSPLUS_TUTORIAL   320 non-null    int64 \n",
      " 7   CALCULATORPLUS       320 non-null    int64 \n",
      " 8   CALENDARPLUS         320 non-null    int64 \n",
      " 9   COMPILERPLUS         320 non-null    int64 \n",
      " 10  CSS_TUTORIAL         320 non-null    int64 \n",
      " 11  DART_COMPILER        320 non-null    int64 \n",
      " 12  DART_TUTORIAL        320 non-null    int64 \n",
      " 13  GO_COMPILER          320 non-null    int64 \n",
      " 14  GO_TUTORIAL          320 non-null    int64 \n",
      " 15  HTML_TUTORIAL        320 non-null    int64 \n",
      " 16  JAVA_COMPILER        320 non-null    int64 \n",
      " 17  JAVA_TUTORIAL        320 non-null    int64 \n",
      " 18  JAVASCRIPT_COMPILER  320 non-null    int64 \n",
      " 19  JAVASCRIPT_TUTORIAL  320 non-null    int64 \n",
      " 20  KOTLIN_COMPILER      320 non-null    int64 \n",
      " 21  KOTLIN_TUTORIAL      320 non-null    int64 \n",
      " 22  MOTIVATIONPLUS       320 non-null    int64 \n",
      " 23  NOTESPLUS            320 non-null    int64 \n",
      " 24  PHP_COMPILER         320 non-null    int64 \n",
      " 25  PHP_TUTORIAL         320 non-null    int64 \n",
      " 26  PYTHON_COMPILER      320 non-null    int64 \n",
      " 27  PYTHON_TUTORIAL      320 non-null    int64 \n",
      " 28  RUBY_COMPILER        320 non-null    int64 \n",
      " 29  RUBY_TUTORIAL        320 non-null    int64 \n",
      " 30  SUCCESS_STORIES      320 non-null    int64 \n",
      " 31  SWIFT_COMPILER       320 non-null    int64 \n",
      " 32  SWIFT_TUTORIAL       320 non-null    int64 \n",
      " 33  TASKSPLUS            320 non-null    int64 \n",
      " 34  TIMEPLUS             320 non-null    int64 \n",
      " 35  TRAVEL_DIARIES       320 non-null    int64 \n",
      " 36  XML_TUTORIAL         320 non-null    int64 \n",
      "dtypes: int64(36), object(1)\n",
      "memory usage: 92.6+ KB\n"
     ]
    }
   ],
   "source": [
    "google.info()"
   ]
  },
  {
   "cell_type": "code",
   "execution_count": 16,
   "metadata": {},
   "outputs": [
    {
     "name": "stdout",
     "output_type": "stream",
     "text": [
      "\n",
      "Posts in January:\n",
      "        date\n",
      "0 2022-01-27\n",
      "1 2022-01-28\n",
      "2 2022-01-29\n",
      "3 2022-01-30\n"
     ]
    }
   ],
   "source": [
    "# Create a sample dataframe\n",
    "data = pd.DataFrame({'date': ['2022-01-27', '2022-01-28',\n",
    "\t\t\t\t\t\t\t'2022-01-29', '2022-01-30',\n",
    "\t\t\t\t\t\t\t'2022-01-31']})\n",
    "\n",
    "# Convert the date to datetime64\n",
    "data['date'] = pd.to_datetime(data['date'], format='%Y-%m-%d')\n",
    "\n",
    "# Filter data between two dates\n",
    "filtered_data= data.loc[(data['date'] >= '2022-01-15')\n",
    "\t\t\t\t\t& (data['date'] < '2022-01-31')]\n",
    "\n",
    "# Display\n",
    "print(\"\\nPosts in January:\")\n",
    "print(filtered_data)"
   ]
  },
  {
   "cell_type": "markdown",
   "metadata": {},
   "source": [
    "**Analysis through graphs**"
   ]
  },
  {
   "cell_type": "code",
   "execution_count": null,
   "metadata": {},
   "outputs": [],
   "source": [
    "google.hist(bins=50,figsize=(15,15))\n",
    "plt.show()"
   ]
  },
  {
   "cell_type": "code",
   "execution_count": null,
   "metadata": {},
   "outputs": [],
   "source": [
    "sns.pairplot(google)"
   ]
  },
  {
   "cell_type": "code",
   "execution_count": null,
   "metadata": {},
   "outputs": [],
   "source": [
    "google.corr()"
   ]
  },
  {
   "cell_type": "code",
   "execution_count": null,
   "metadata": {},
   "outputs": [],
   "source": [
    "google.isnull().sum()"
   ]
  },
  {
   "cell_type": "code",
   "execution_count": null,
   "metadata": {},
   "outputs": [],
   "source": [
    "updated_google = google.dropna(axis=0)\n",
    "updated_google = google.dropna(axis=1)"
   ]
  },
  {
   "cell_type": "code",
   "execution_count": null,
   "metadata": {},
   "outputs": [],
   "source": [
    "updated_google.info()"
   ]
  },
  {
   "cell_type": "code",
   "execution_count": null,
   "metadata": {},
   "outputs": [],
   "source": [
    "updated_google.head()"
   ]
  },
  {
   "cell_type": "markdown",
   "metadata": {},
   "source": [
    "**Plot Heatmap**"
   ]
  },
  {
   "cell_type": "code",
   "execution_count": null,
   "metadata": {},
   "outputs": [],
   "source": [
    "plt.figure(figsize=(12,10))\n",
    "sns.heatmap(updated_google.corr(),annot=True)"
   ]
  },
  {
   "cell_type": "markdown",
   "metadata": {},
   "source": [
    "**Perform Analysis on data**"
   ]
  },
  {
   "cell_type": "markdown",
   "metadata": {},
   "source": [
    "For the apps, we run by the most popular words used."
   ]
  },
  {
   "cell_type": "code",
   "execution_count": null,
   "metadata": {},
   "outputs": [],
   "source": [
    "import matplotlib.pyplot as plt\n",
    "from wordcloud import WordCloud, STOPWORDS \n",
    "stopwords = set(STOPWORDS) \n",
    "stopwords.add('will')\n",
    "import re\n",
    "import seaborn as sns\n",
    "sns.set()\n",
    "plt.style.use('seaborn-whitegrid')\n",
    "\n",
    "def WordCloudPlotter(dfColumn):\n",
    "    colData = google[dfColumn]\n",
    "    textCloud = ''\n",
    "    \n",
    "    #text processing\n",
    "    # converting colums to a \n",
    "    #single line of text\n",
    "    for mem in colData:\n",
    "        textCloud = textCloud + str(mem)\n",
    "    \n",
    "    # plotting word cloud\n",
    "    wordcloud = WordCloud(width = 800, height = 800,background_color ='white', \n",
    "                          stopwords = stopwords,  min_font_size = 10).generate(textCloud)\n",
    "    plt.figure(figsize = (8, 8), facecolor = None)\n",
    "    plt.style.use('seaborn-whitegrid')\n",
    "    plt.imshow(wordcloud) \n",
    "    plt.rcParams.update({'font.size': 25})\n",
    "    plt.axis(\"off\") \n",
    "    plt.title('Word Cloud: ' + str(dfColumn))\n",
    "    plt.tight_layout(pad = 0) \n",
    "  \n",
    "    plt.show()\n",
    "    \n",
    "WordCloudPlotter('APP')"
   ]
  },
  {
   "cell_type": "code",
   "execution_count": null,
   "metadata": {},
   "outputs": [],
   "source": [
    "from sklearn.preprocessing import MinMaxScaler"
   ]
  },
  {
   "cell_type": "code",
   "execution_count": null,
   "metadata": {},
   "outputs": [],
   "source": [
    "scaler=MinMaxScaler()\n",
    "trans=scaler.fit_transform(google.drop(columns=['APP']))"
   ]
  },
  {
   "cell_type": "code",
   "execution_count": null,
   "metadata": {},
   "outputs": [],
   "source": [
    "trans=pd.DataFrame(trans,columns=google.columns[:-1])\n",
    "trans"
   ]
  },
  {
   "cell_type": "markdown",
   "metadata": {},
   "source": [
    "**Performing regression analysis**"
   ]
  },
  {
   "cell_type": "code",
   "execution_count": null,
   "metadata": {},
   "outputs": [],
   "source": [
    "from sklearn.linear_model import LogisticRegression\n",
    "from sklearn.model_selection import train_test_split"
   ]
  },
  {
   "cell_type": "code",
   "execution_count": null,
   "metadata": {},
   "outputs": [],
   "source": [
    "X=trans[['FACEBOOK','INSTAGRAM','TWITTER','QUORA','LINKEDIN','REDDIT','SNAPCHAT','YOUTUBE','TIKTOK','EMAIL']]\n",
    "y=google['APP']\n",
    "x_train, x_test, y_train, y_test = train_test_split(X, y, test_size=0.2, random_state=42)"
   ]
  },
  {
   "cell_type": "code",
   "execution_count": null,
   "metadata": {},
   "outputs": [],
   "source": [
    "classifier = LogisticRegression()\n",
    "classifier.fit(x_train,y_train)\n",
    "prediction = classifier.predict(x_test)"
   ]
  },
  {
   "cell_type": "markdown",
   "metadata": {},
   "source": [
    "**Find the most apps used**"
   ]
  },
  {
   "cell_type": "code",
   "execution_count": null,
   "metadata": {},
   "outputs": [],
   "source": [
    "print(prediction)"
   ]
  },
  {
   "cell_type": "code",
   "execution_count": null,
   "metadata": {},
   "outputs": [],
   "source": [
    "from sklearn import metrics"
   ]
  },
  {
   "cell_type": "code",
   "execution_count": null,
   "metadata": {},
   "outputs": [],
   "source": [
    "def print_metrics(y_test,prediction):\n",
    "    plt.scatter(y_test,prediction)\n",
    "    print('MAE : ',metrics.mean_absolute_error(y_test,prediction))\n",
    "    print('MSE : ',metrics.mean_squared_error(y_test,prediction))\n",
    "    print('RSME: ',np.sqrt(metrics.mean_squared_error(y_test,prediction)))\n",
    "    print('R2  : ',metrics.r2_score(y_test,prediction))"
   ]
  },
  {
   "cell_type": "code",
   "execution_count": null,
   "metadata": {},
   "outputs": [],
   "source": [
    "print_metrics(y_test,prediction)"
   ]
  }
 ],
 "metadata": {
  "interpreter": {
   "hash": "9f52f0ffa10333028d7ff9953f0d373124b399c9536e08a74b5548e04132c9f5"
  },
  "kernelspec": {
   "display_name": "Python 3.9.7 ('base')",
   "language": "python",
   "name": "python3"
  },
  "language_info": {
   "codemirror_mode": {
    "name": "ipython",
    "version": 3
   },
   "file_extension": ".py",
   "mimetype": "text/x-python",
   "name": "python",
   "nbconvert_exporter": "python",
   "pygments_lexer": "ipython3",
   "version": "3.9.7"
  },
  "orig_nbformat": 4
 },
 "nbformat": 4,
 "nbformat_minor": 2
}
